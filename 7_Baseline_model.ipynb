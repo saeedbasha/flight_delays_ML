{
 "cells": [
  {
   "cell_type": "code",
   "execution_count": 29,
   "metadata": {},
   "outputs": [],
   "source": [
    "# Baseline model\n",
    "# Idea: Estimated delay is the average delays of previous flights on the same flight route."
   ]
  },
  {
   "cell_type": "code",
   "execution_count": 62,
   "metadata": {},
   "outputs": [],
   "source": [
    "import pandas as pd\n",
    "import numpy as np\n",
    "from sklearn.base import BaseEstimator\n",
    "from sklearn.model_selection import train_test_split,cross_val_score,StratifiedKFold\n",
    "from sklearn.metrics import mean_squared_error, mean_absolute_error,r2_score\n",
    "\n",
    "df = pd.read_csv('data/eda_data.csv',index_col=0)\n"
   ]
  },
  {
   "cell_type": "code",
   "execution_count": 56,
   "metadata": {},
   "outputs": [],
   "source": [
    "def calc_average_delay_for_each_route(X_train, y_train):\n",
    "    # return average_delays\n",
    "    # Combine X_train and y_train into a single DataFrame\n",
    "    train_data = pd.concat([X_train, y_train], axis=1)\n",
    "\n",
    "    # Calculate average delays for each route\n",
    "    average_delays = train_data.groupby('flight_route')['target'].mean().reset_index()\n",
    "\n",
    "    return average_delays"
   ]
  },
  {
   "cell_type": "code",
   "execution_count": 57,
   "metadata": {},
   "outputs": [],
   "source": [
    "def estimate_delays(average_delays,X_test):\n",
    "    # Merge X_test with average_delays on 'route'\n",
    "    # merged_data = X_test.merge(average_delays, on='route', how='left')\n",
    "    merged_data = X_test.merge(average_delays, on=['flight_route'], how='left')\n",
    "\n",
    "    # Replace missing values with a default delay value (e.g., 0)\n",
    "    merged_data['target'].fillna(0, inplace=True)\n",
    "\n",
    "    # Return the estimated delays\n",
    "    estimated_delays = merged_data['target']\n",
    "\n",
    "    return estimated_delays"
   ]
  },
  {
   "cell_type": "code",
   "execution_count": 65,
   "metadata": {},
   "outputs": [
    {
     "data": {
      "text/html": [
       "<div>\n",
       "<style scoped>\n",
       "    .dataframe tbody tr th:only-of-type {\n",
       "        vertical-align: middle;\n",
       "    }\n",
       "\n",
       "    .dataframe tbody tr th {\n",
       "        vertical-align: top;\n",
       "    }\n",
       "\n",
       "    .dataframe thead th {\n",
       "        text-align: right;\n",
       "    }\n",
       "</style>\n",
       "<table border=\"1\" class=\"dataframe\">\n",
       "  <thead>\n",
       "    <tr style=\"text-align: right;\">\n",
       "      <th></th>\n",
       "      <th>Evaluation Metric</th>\n",
       "      <th>Model Score</th>\n",
       "    </tr>\n",
       "  </thead>\n",
       "  <tbody>\n",
       "    <tr>\n",
       "      <th>0</th>\n",
       "      <td>rmse</td>\n",
       "      <td>116.980063</td>\n",
       "    </tr>\n",
       "  </tbody>\n",
       "</table>\n",
       "</div>"
      ],
      "text/plain": [
       "  Evaluation Metric  Model Score\n",
       "0              rmse   116.980063"
      ]
     },
     "metadata": {},
     "output_type": "display_data"
    }
   ],
   "source": [
    "# Delay is req for classification - but not req. for the baseline model\n",
    "# df['delayed'] = df['target'] >0.1\n",
    "\n",
    "# Idea is using flight routes to predict delays\n",
    "# Creating alight route column \n",
    "df['flight_route'] = df['depstn'] + '-' + df['arrstn']\n",
    "\n",
    "# Defining features and target\n",
    "X = df.drop(['target'],axis=1)\n",
    "y = df['target'] \n",
    "\n",
    "# Splitting data\n",
    "X_train, X_test, y_train, y_test = train_test_split(X,y,test_size=0.3,random_state=42)\n",
    "\n",
    "# Calculate average delays on each flight route\n",
    "average_delays = calc_average_delay_for_each_route(X_train,y_train)\n",
    "\n",
    "# Predict flight delays based on average delay at each airport\n",
    "y_pred = estimate_delays(average_delays,X_test)\n",
    "\n",
    "# Scoring the prediction using rmse\n",
    "rmse_cv = mean_squared_error(y_test, y_pred, squared=False)\n",
    "\n",
    "# Displaying the score \n",
    "model_scores_df = pd.DataFrame({\n",
    "    'Evaluation Metric': [\"rmse\"],\n",
    "    'Model Score': [rmse_cv]\n",
    "})\n",
    "\n",
    "display(model_scores_df)\n"
   ]
  },
  {
   "cell_type": "code",
   "execution_count": null,
   "metadata": {},
   "outputs": [],
   "source": [
    "# To test the stability of the prediction:\n",
    "# Split the data set randomly 1000 times\n",
    "# Calculate average rmse score\n",
    "\n",
    "rmse_scores = []\n",
    "for i in range(1,1000):\n",
    "    # Splitting data\n",
    "    X_train, X_test, y_train, y_test = train_test_split(X,y,test_size=0.3)\n",
    "\n",
    "    # Calculate average delays on each flight route\n",
    "    average_delays = calc_average_delay_for_each_route(X_train,y_train)\n",
    "\n",
    "    # Predict flight delays based on average delay at each airport\n",
    "    y_pred = estimate_delays(average_delays,X_test)\n",
    "\n",
    "    # Scoring the prediction using rmse\n",
    "    rmse_cv = mean_squared_error(y_test, y_pred, squared=False)\n",
    "    rmse_scores.append(rmse_cv)\n",
    "    \n",
    "# Displaying the score \n",
    "model_scores_df = pd.DataFrame({\n",
    "    'Evaluation Metric': [\"rmse\"],\n",
    "    'Model Score': [rmse_cv]\n",
    "})\n",
    "\n",
    "display(model_scores_df)"
   ]
  },
  {
   "cell_type": "code",
   "execution_count": 63,
   "metadata": {},
   "outputs": [
    {
     "data": {
      "text/html": [
       "<div>\n",
       "<style scoped>\n",
       "    .dataframe tbody tr th:only-of-type {\n",
       "        vertical-align: middle;\n",
       "    }\n",
       "\n",
       "    .dataframe tbody tr th {\n",
       "        vertical-align: top;\n",
       "    }\n",
       "\n",
       "    .dataframe thead th {\n",
       "        text-align: right;\n",
       "    }\n",
       "</style>\n",
       "<table border=\"1\" class=\"dataframe\">\n",
       "  <thead>\n",
       "    <tr style=\"text-align: right;\">\n",
       "      <th></th>\n",
       "      <th>Evaluation Metric</th>\n",
       "      <th>Model Score</th>\n",
       "    </tr>\n",
       "  </thead>\n",
       "  <tbody>\n",
       "    <tr>\n",
       "      <th>0</th>\n",
       "      <td>r2</td>\n",
       "      <td>0.029222</td>\n",
       "    </tr>\n",
       "    <tr>\n",
       "      <th>1</th>\n",
       "      <td>mse</td>\n",
       "      <td>13684.335163</td>\n",
       "    </tr>\n",
       "    <tr>\n",
       "      <th>2</th>\n",
       "      <td>rmse</td>\n",
       "      <td>116.980063</td>\n",
       "    </tr>\n",
       "    <tr>\n",
       "      <th>3</th>\n",
       "      <td>mae</td>\n",
       "      <td>54.340054</td>\n",
       "    </tr>\n",
       "  </tbody>\n",
       "</table>\n",
       "</div>"
      ],
      "text/plain": [
       "  Evaluation Metric   Model Score\n",
       "0                r2      0.029222\n",
       "1               mse  13684.335163\n",
       "2              rmse    116.980063\n",
       "3               mae     54.340054"
      ]
     },
     "metadata": {},
     "output_type": "display_data"
    }
   ],
   "source": [
    "\n",
    "# Other scoring methods\n",
    "r2_cv = r2_score(y_test, y_pred)\n",
    "mse_cv = mean_squared_error(y_test, y_pred)\n",
    "rmse_cv = mean_squared_error(y_test, y_pred, squared=False)\n",
    "mae_cv = mean_absolute_error(y_test, y_pred)\n",
    "\n",
    "rmse_cv = mean_squared_error(y_test, y_pred, squared=False)\n",
    "\n",
    "model_scores_df = pd.DataFrame({\n",
    "    'Evaluation Metric': [\"r2\",\"mse\",\"rmse\",\"mae\"],\n",
    "    'Model Score': [r2_cv, mse_cv, rmse_cv, mae_cv]\n",
    "})\n",
    "\n",
    "display(model_scores_df)\n"
   ]
  },
  {
   "cell_type": "code",
   "execution_count": null,
   "metadata": {},
   "outputs": [],
   "source": []
  }
 ],
 "metadata": {
  "kernelspec": {
   "display_name": ".venv",
   "language": "python",
   "name": "python3"
  },
  "language_info": {
   "codemirror_mode": {
    "name": "ipython",
    "version": 3
   },
   "file_extension": ".py",
   "mimetype": "text/x-python",
   "name": "python",
   "nbconvert_exporter": "python",
   "pygments_lexer": "ipython3",
   "version": "3.10.12"
  },
  "orig_nbformat": 4
 },
 "nbformat": 4,
 "nbformat_minor": 2
}
