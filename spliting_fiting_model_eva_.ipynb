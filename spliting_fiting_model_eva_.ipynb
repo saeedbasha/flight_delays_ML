{
 "cells": [
  {
   "cell_type": "code",
   "execution_count": null,
   "metadata": {},
   "outputs": [],
   "source": [
    "X = df.drop(['target'], axis=1)\n",
    "y = df[['target']].values"
   ]
  },
  {
   "cell_type": "code",
   "execution_count": null,
   "metadata": {},
   "outputs": [],
   "source": [
    "# Splitting Train-set and Test-set\n",
    "X_train, X_test, y_train, y_test= train_test_split(X, y, test_size=0.2, random_state=42)\n",
    "\n",
    "# Splitting Train-set and Validation-set\n",
    "X_train, X_val, y_train, y_val = train_test_split(X_train, y_train, test_size=0.25, random_state=42)"
   ]
  },
  {
   "cell_type": "code",
   "execution_count": null,
   "metadata": {},
   "outputs": [],
   "source": [
    "#Choosing the evaluation metric\n",
    "# Formula to get accuracy\n",
    "def get_accuracy(y_true, y_preds):\n",
    "    # Getting score of confusion matrix\n",
    "    true_negative, false_positive, false_negative, true_positive = confusion_matrix(y_true, y_preds).ravel()\n",
    "    # Calculating accuracy\n",
    "    accuracy = (true_positive + true_negative)/(true_negative + false_positive + false_negative + true_positive)\n",
    "    return accuracy"
   ]
  },
  {
   "cell_type": "code",
   "execution_count": null,
   "metadata": {},
   "outputs": [],
   "source": [
    "#Creating some baseline models\n",
    "#Logistic Regression\n",
    "from sklearn.linear_model import LogisticRegression\n",
    "lr = LogisticRegression(random_state=0).fit(X_train, y_train)\n",
    "\n",
    "#Naive Bayes\n",
    "gnb = GaussianNB()\n",
    "gnb.fit(X_train, y_train)\n",
    "\n",
    "#Random Forest Classifier\n",
    "rf = RandomForestClassifier(random_state=0)\n",
    "rf.fit(X_train, y_train)\n",
    "\n",
    "#KNN Classifier\n",
    "knn = KNeighborsClassifier(n_neighbors=2)\n",
    "knn.fit(X_train, y_train)"
   ]
  },
  {
   "cell_type": "code",
   "execution_count": null,
   "metadata": {},
   "outputs": [],
   "source": [
    "#Evaluation of accuracy on validation dataset\n",
    "models = [lr, gnb, rf, knn]\n",
    "acc = []\n",
    "for model in models:\n",
    "    preds_val = model.predict(X_val)\n",
    "    accuracy = get_accuracy(y_val, preds_val)\n",
    "    acc.append(accuracy)\n",
    "model_name = ['Logistic Regression', 'Naive Bayes', 'Random Forest', 'KNN']\n",
    "accuracy = dict(zip(model_name, acc))\n",
    "plt.figure(figsize=(15,5))\n",
    "ax = sns.barplot(x = list(accuracy.keys()), y = list(accuracy.values()))\n",
    "for p, value in zip(ax.patches, list(accuracy.values())):\n",
    "    _x = p.get_x() + p.get_width() / 2\n",
    "    _y = p.get_y() + p.get_height() + 0.008\n",
    "    ax.text(_x, _y, round(value, 3), ha=\"center\") \n",
    "plt.xlabel(\"Models\")\n",
    "plt.ylabel(\"Accuracy\")\n",
    "plt.title(\"Model vs. Accuracy\")\n",
    "plt.show()"
   ]
  }
 ],
 "metadata": {
  "language_info": {
   "name": "python"
  },
  "orig_nbformat": 4
 },
 "nbformat": 4,
 "nbformat_minor": 2
}
